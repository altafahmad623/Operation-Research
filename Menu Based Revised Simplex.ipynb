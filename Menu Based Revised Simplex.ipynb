{
 "cells": [
  {
   "cell_type": "code",
   "execution_count": 1,
   "metadata": {},
   "outputs": [],
   "source": [
    "import numpy as np\n",
    "from tabulate import tabulate"
   ]
  },
  {
   "cell_type": "code",
   "execution_count": 105,
   "metadata": {},
   "outputs": [
    {
     "name": "stdout",
     "output_type": "stream",
     "text": [
      "Enter n (no. of variables) : 3\n",
      "Enter m (no. of equations) : 3\n",
      "Enter the coefficient of x1 in Z :\n",
      "5\n",
      "Enter the coefficient of x2 in Z :\n",
      "10\n",
      "Enter the coefficient of x3 in Z :\n",
      "8\n",
      "Enter the coefficient of x1 in equation 1\n",
      "3\n",
      "Enter the coefficient of x2 in equation 1\n",
      "5\n",
      "Enter the coefficient of x3 in equation 1\n",
      "2\n",
      "Enter the coefficient of x1 in equation 2\n",
      "4\n",
      "Enter the coefficient of x2 in equation 2\n",
      "4\n",
      "Enter the coefficient of x3 in equation 2\n",
      "4\n",
      "Enter the coefficient of x1 in equation 3\n",
      "2\n",
      "Enter the coefficient of x2 in equation 3\n",
      "4\n",
      "Enter the coefficient of x3 in equation 3\n",
      "5\n",
      "Enter the value of b1 in AX= b\n",
      "60\n",
      "Enter the value of b2 in AX= b\n",
      "72\n",
      "Enter the value of b3 in AX= b\n",
      "100\n",
      "The initial table is :\n",
      "|   CB |   BV |   x_1 |   x_2 |   x_3 |   x_4 |   x_5 |   x_6 |   b |\n",
      "|------+------+-------+-------+-------+-------+-------+-------+-----|\n",
      "|    0 |    3 |     3 |     5 |     2 |     1 |     0 |     0 |  60 |\n",
      "|    0 |    4 |     4 |     4 |     4 |     0 |     1 |     0 |  72 |\n",
      "|    0 |    5 |     2 |     4 |     5 |     0 |     0 |     1 | 100 |\n",
      "\n",
      "\n",
      "\t Cb \t BV \n",
      "The basic variables are : [4 5 6]\n",
      "With the coefficients C_b : [0. 0. 0.]\n",
      "And X_B = [ 60.  72. 100.]\n",
      "The non-basic variables are : [1 2 3]\n",
      "B : \n",
      "[[1. 0. 0.]\n",
      " [0. 1. 0.]\n",
      " [0. 0. 1.]]\n",
      "B^{-1} : \n",
      "[[1.0, 0.0, 0.0], [0.0, 1.0, 0.0], [0.0, 0.0, 1.0]]\n",
      "y = C_b.B^{-1} = [0. 0. 0.]\n",
      "P1 = [3. 4. 2.]\n",
      "Now, C1 - Z1 = C1 - yP1\n",
      "=5.0\n",
      "P2 = [5. 4. 4.]\n",
      "Now, C2 - Z2 = C2 - yP2\n",
      "=10.0\n",
      "P3 = [2. 4. 5.]\n",
      "Now, C3 - Z3 = C3 - yP3\n",
      "=8.0\n",
      "\n",
      "The maximum value of Cj - Zj is :10.0\n",
      "\n",
      "So the entering variable is 2\n",
      "\n",
      " Iteration : 1\n",
      "|   CB |   BV |   x_1 |   x_2 |   x_3 |   x_4 |   x_5 |   x_6 |   b |\n",
      "|------+------+-------+-------+-------+-------+-------+-------+-----|\n",
      "|    0 |    3 |     3 |     5 |     2 |     1 |     0 |     0 |  60 |\n",
      "|    0 |    4 |     4 |     4 |     4 |     0 |     1 |     0 |  72 |\n",
      "|    0 |    5 |     2 |     4 |     5 |     0 |     0 |     1 | 100 |\n",
      "\n",
      "\n",
      "Now, Pbar_j = B^{-1} Pj = [5. 4. 4.]\n",
      "So, we divide X_B by Pbar_j to get\n",
      "[12. 18. 25.]\n",
      "Here the minimum value of the matrix is 12.0\n",
      "So, the leaving variable is 4\n",
      "The basic variables are : [2 5 6]\n",
      "With the coefficients C_b : [10.  0.  0.]\n",
      "And X_B = [12. 24. 52.]\n",
      "The non-basic variables are : [1 4 3]\n",
      "B : \n",
      "[[5. 0. 0.]\n",
      " [4. 1. 0.]\n",
      " [4. 0. 1.]]\n",
      "B^{-1} : \n",
      "[[0.2, 0.0, 0.0], [-0.8, 1.0, 0.0], [-0.8, 0.0, 1.0]]\n",
      "y = C_b.B^{-1} = [2. 0. 0.]\n",
      "P1 = [3. 4. 2.]\n",
      "Now, C1 - Z1 = C1 - yP1\n",
      "=-1.0\n",
      "P4 = [1. 0. 0.]\n",
      "Now, C4 - Z4 = C4 - yP4\n",
      "=-2.0\n",
      "P3 = [2. 4. 5.]\n",
      "Now, C3 - Z3 = C3 - yP3\n",
      "=4.0\n",
      "\n",
      "The maximum value of Cj - Zj is :4.0\n",
      "\n",
      "So the entering variable is 3\n",
      "\n",
      " Iteration : 2\n",
      "|   CB |   BV |   x_1 |   x_2 |   x_3 |   x_4 |   x_5 |   x_6 |   b |\n",
      "|------+------+-------+-------+-------+-------+-------+-------+-----|\n",
      "|   10 |    1 |     3 |     5 |     2 |     1 |     0 |     0 |  12 |\n",
      "|    0 |    4 |     4 |     4 |     4 |     0 |     1 |     0 |  24 |\n",
      "|    0 |    5 |     2 |     4 |     5 |     0 |     0 |     1 |  52 |\n",
      "\n",
      "\n",
      "Now, Pbar_j = B^{-1} Pj = [0.4 2.4 3.4]\n",
      "So, we divide X_B by Pbar_j to get\n",
      "[30.         10.         15.29411765]\n",
      "Here the minimum value of the matrix is 10.0\n",
      "So, the leaving variable is 5\n",
      "The basic variables are : [2 3 6]\n",
      "With the coefficients C_b : [10.  8.  0.]\n",
      "And X_B = [ 8. 10. 18.]\n",
      "The non-basic variables are : [1 4 5]\n",
      "B : \n",
      "[[5. 2. 0.]\n",
      " [4. 4. 0.]\n",
      " [4. 5. 1.]]\n",
      "B^{-1} : \n",
      "[[0.33333333333333337, -0.16666666666666669, 0.0], [-0.33333333333333337, 0.4166666666666667, 0.0], [0.3333333333333335, -1.4166666666666667, 1.0]]\n",
      "y = C_b.B^{-1} = [0.66666667 1.66666667 0.        ]\n",
      "P1 = [3. 4. 2.]\n",
      "Now, C1 - Z1 = C1 - yP1\n",
      "=-3.666666666666668\n",
      "P4 = [1. 0. 0.]\n",
      "Now, C4 - Z4 = C4 - yP4\n",
      "=-0.666666666666667\n",
      "P5 = [0. 1. 0.]\n",
      "Now, C5 - Z5 = C5 - yP5\n",
      "=-1.6666666666666665\n",
      "The solution is :\n",
      "x2 = 8.0\n",
      "x3 = 10.0\n",
      "x6 = 18.0\n",
      "And the rest of the values are 0.\n",
      "And the value of Z is : 160.0\n"
     ]
    }
   ],
   "source": [
    "n = int(input(\"Enter n (no. of variables) : \"))\n",
    "m = int(input(\"Enter m (no. of equations) : \"))\n",
    "C_j = np.zeros(n+m)\n",
    "#a_ij = np.empty(n+m,m)\n",
    "for i in range(n):\n",
    "    print('Enter the coefficient of x'+str(i+1)+ ' in Z :')\n",
    "    x = float(input())\n",
    "    C_j[i] = x\n",
    "a_ij = np.zeros((m,m+n))\n",
    "for i in range(m):\n",
    "    for j in range(n):\n",
    "        print('Enter the coefficient of x'+str(j+1)+' in equation '+str(i+1))\n",
    "        x = float(input())\n",
    "        a_ij[i,j] = x\n",
    "    a_ij[i,(n+i)] = 1\n",
    "X_B = np.zeros(m)\n",
    "for i in range(m):\n",
    "    print('Enter the value of b' +str(i+1) + ' in AX= b')\n",
    "    x = float(input())\n",
    "    X_B[i] = x\n",
    "B = np.eye(m) # basis\n",
    "C_b = np.zeros(m) # coefficients of the basic variables\n",
    "B_inv = inverse(B)\n",
    "y = np.dot(C_b,B_inv) # dual of the equation\n",
    "bv = np.arange(m)\n",
    "for i in range(m):\n",
    "    bv[i] = i+n\n",
    "nbv = np.arange(n)\n",
    "print('The initial table is :')\n",
    "rows, cols = (m, m+n + 3) \n",
    "arr = [[0 for i in range(cols)] for j in range(rows)] \n",
    "for i in range(rows):\n",
    "    arr[i][1] = bv[i]\n",
    "    arr[i][0] = C_j[bv[i]]\n",
    "for i in range(m):\n",
    "    for j in range(m+n):\n",
    "        arr[i][j+2] = a_ij[i][j]\n",
    "for i in range(m):\n",
    "    arr[i][cols-1] = X_B[i]\n",
    "table = tabulate(arr, headers =header, tablefmt ='orgtbl')\n",
    "print(table)\n",
    "print('\\n')\n",
    "print('\\t Cb \\t BV ')\n",
    "print('The basic variables are : ' + str(bv+1) )\n",
    "print('With the coefficients C_b : ' + str(C_b))\n",
    "print('And X_B = ' + str(X_B) )\n",
    "print('The non-basic variables are : '+ str(nbv + 1))\n",
    "print('B : \\n'+str(B))\n",
    "print('B^{-1} : \\n' + str(B_inv))\n",
    "print('y = C_b.B^{-1} = ' + str(y))\n",
    "id1 =0\n",
    "nbcid = 0\n",
    "max = 0\n",
    "for i in range(n):\n",
    "    print('P' + str(nbv[i] + 1) + ' = '+ str(a_ij[:,nbv[i]]))\n",
    "    print('Now, C' + str(nbv[i] + 1) + ' - Z' + str(nbv[i] + 1) + ' = C' + str(nbv[i] + 1) + ' - yP' + str(nbv[i] + 1) )\n",
    "    print('=' + str(  C_j[nbv[i]] - np.dot(y, np.transpose(a_ij[:,nbv[i]] ) ) ))\n",
    "    if (C_j[nbv[i]] - np.dot(y, np.transpose(a_ij[:,nbv[i]]) )) > max :\n",
    "        max = C_j[nbv[i]] - np.dot(y, np.transpose(a_ij[:,nbv[i]]) )\n",
    "        id1 = nbv[i]\n",
    "        nbcid = i\n",
    "print('\\nThe maximum value of Cj - Zj is :' + str(max) )\n",
    "print('\\nSo the entering variable is ' + str(id1+1) )\n",
    "check = 1\n",
    "iterations = 0\n",
    "while (check == 1):\n",
    "    check = 0\n",
    "    iterations +=1\n",
    "    print('\\n Iteration : '+str(iterations))\n",
    "    rows, cols = (m, m+n + 3) \n",
    "    arr = [[0 for i in range(cols)] for j in range(rows)] \n",
    "    for i in range(rows):\n",
    "        arr[i][1] = bv[i]\n",
    "        arr[i][0] = C_j[bv[i]]\n",
    "    for i in range(m):\n",
    "        for j in range(m+n):\n",
    "            arr[i][j+2] = a_ij[i][j]\n",
    "    for i in range(m):\n",
    "        arr[i][cols-1] = X_B[i]\n",
    "    table = tabulate(arr, headers =header, tablefmt ='orgtbl')\n",
    "    print(table)\n",
    "    print('\\n')\n",
    "    print('Now, Pbar_j = B^{-1} Pj = ' + str( np.dot(B_inv,  a_ij[:,id1])) )\n",
    "    print('So, we divide X_B by Pbar_j to get')\n",
    "    arr = np.divide(X_B,np.dot(B_inv,  a_ij[:,id1]))\n",
    "    print(np.divide(X_B,np.dot(B_inv,  a_ij[:,id1])))\n",
    "    id2 = np.where(arr > 0, arr, np.inf).argmin()\n",
    "    minim = np.where(arr > 0, arr, np.inf).min()\n",
    "    print('Here the minimum value of the matrix is ' + str(minim) )\n",
    "    print('So, the leaving variable is ' + str(bv[id2]+1))\n",
    "    nbv[nbcid] = bv[id2]\n",
    "    bv[id2] = id1\n",
    "    X_B = (X_B) - minim*np.dot(B_inv,  a_ij[:,id1])\n",
    "    X_B[id2] = minim\n",
    "    C_b[id2] = C_j[bv[id2]]\n",
    "    B[:,id2] = a_ij[:,id1]\n",
    "    B_inv = inverse(B)\n",
    "    y = np.dot(C_b,B_inv)\n",
    "    print('The basic variables are : ' + str(bv+1) )\n",
    "    print('With the coefficients C_b : ' + str(C_b))\n",
    "    print('And X_B = ' + str(X_B) )\n",
    "    print('The non-basic variables are : '+ str(nbv + 1))\n",
    "    print('B : \\n'+str(B))\n",
    "    print('B^{-1} : \\n' + str(B_inv))\n",
    "    print('y = C_b.B^{-1} = ' + str(y))\n",
    "    id1 =0\n",
    "    nbcid = 0\n",
    "    max = 0\n",
    "    for i in range(n):\n",
    "        print('P' + str(nbv[i] + 1) + ' = '+ str(a_ij[:,nbv[i]]))\n",
    "        print('Now, C' + str(nbv[i] + 1) + ' - Z' + str(nbv[i] + 1) + ' = C' + str(nbv[i] + 1) + ' - yP' + str(nbv[i] + 1) )\n",
    "        if (C_j[nbv[i]] - np.dot(y, np.transpose(a_ij[:,nbv[i]] ))) > 0:\n",
    "            check = 1\n",
    "        print('=' + str(  C_j[nbv[i]] - np.dot(y, np.transpose(a_ij[:,nbv[i]] ) ) ))\n",
    "        if (C_j[nbv[i]] - np.dot(y, np.transpose(a_ij[:,nbv[i]]) )) > max :\n",
    "            max = C_j[nbv[i]] - np.dot(y, np.transpose(a_ij[:,nbv[i]]) )\n",
    "            id1 = nbv[i]\n",
    "            nbcid = i\n",
    "    if check == 0:\n",
    "        break\n",
    "    print('\\nThe maximum value of Cj - Zj is :' + str(max) )\n",
    "    print('\\nSo the entering variable is ' + str(id1+1))\n",
    "    if iterations > 10:\n",
    "        break\n",
    "if iterations > 10:\n",
    "    print('It is unbounded')\n",
    "else: \n",
    "    print('The solution is :' )\n",
    "    sumZ = 0\n",
    "    for i in range(m):\n",
    "        print('x'+str(bv[i]+1) + ' = ' + str(X_B[i]))\n",
    "        sumZ += C_j[bv[i]] * X_B[i]\n",
    "    print('And the rest of the values are 0.')\n",
    "    print('And the value of Z is : ' + str(sumZ))"
   ]
  },
  {
   "cell_type": "code",
   "execution_count": 44,
   "metadata": {
    "scrolled": true
   },
   "outputs": [
    {
     "name": "stdout",
     "output_type": "stream",
     "text": [
      "['CB', 'BV', 'x_1', 'x_2', 'x_3', 'x_4', 'x_5', 'x_6', 'b']\n"
     ]
    }
   ],
   "source": [
    "k = a_ij\n",
    "k\n",
    "header = ['CB', 'BV']\n",
    "for i in range(n+m):\n",
    "    stri = 'x_'+str(i+1)\n",
    "    header.append(stri)\n",
    "header.append('b')\n",
    "print(header)"
   ]
  },
  {
   "cell_type": "code",
   "execution_count": 39,
   "metadata": {},
   "outputs": [
    {
     "ename": "ValueError",
     "evalue": "all the input array dimensions for the concatenation axis must match exactly, but along dimension 1, the array at index 0 has size 6 and the array at index 1 has size 1",
     "output_type": "error",
     "traceback": [
      "\u001b[0;31m---------------------------------------------------------------------------\u001b[0m",
      "\u001b[0;31mValueError\u001b[0m                                Traceback (most recent call last)",
      "\u001b[0;32m<ipython-input-39-849f1c884cec>\u001b[0m in \u001b[0;36m<module>\u001b[0;34m\u001b[0m\n\u001b[0;32m----> 1\u001b[0;31m \u001b[0mk\u001b[0m \u001b[0;34m=\u001b[0m \u001b[0mnp\u001b[0m\u001b[0;34m.\u001b[0m\u001b[0mappend\u001b[0m\u001b[0;34m(\u001b[0m\u001b[0mk\u001b[0m \u001b[0;34m,\u001b[0m \u001b[0mX_B\u001b[0m\u001b[0;34m.\u001b[0m\u001b[0mreshape\u001b[0m\u001b[0;34m(\u001b[0m\u001b[0mm\u001b[0m\u001b[0;34m,\u001b[0m\u001b[0;36m1\u001b[0m\u001b[0;34m)\u001b[0m\u001b[0;34m,\u001b[0m \u001b[0maxis\u001b[0m \u001b[0;34m=\u001b[0m \u001b[0;36m0\u001b[0m\u001b[0;34m)\u001b[0m\u001b[0;34m\u001b[0m\u001b[0;34m\u001b[0m\u001b[0m\n\u001b[0m",
      "\u001b[0;32m<__array_function__ internals>\u001b[0m in \u001b[0;36mappend\u001b[0;34m(*args, **kwargs)\u001b[0m\n",
      "\u001b[0;32m~/work3.7/lib/python3.7/site-packages/numpy/lib/function_base.py\u001b[0m in \u001b[0;36mappend\u001b[0;34m(arr, values, axis)\u001b[0m\n\u001b[1;32m   4691\u001b[0m         \u001b[0mvalues\u001b[0m \u001b[0;34m=\u001b[0m \u001b[0mravel\u001b[0m\u001b[0;34m(\u001b[0m\u001b[0mvalues\u001b[0m\u001b[0;34m)\u001b[0m\u001b[0;34m\u001b[0m\u001b[0;34m\u001b[0m\u001b[0m\n\u001b[1;32m   4692\u001b[0m         \u001b[0maxis\u001b[0m \u001b[0;34m=\u001b[0m \u001b[0marr\u001b[0m\u001b[0;34m.\u001b[0m\u001b[0mndim\u001b[0m\u001b[0;34m-\u001b[0m\u001b[0;36m1\u001b[0m\u001b[0;34m\u001b[0m\u001b[0;34m\u001b[0m\u001b[0m\n\u001b[0;32m-> 4693\u001b[0;31m     \u001b[0;32mreturn\u001b[0m \u001b[0mconcatenate\u001b[0m\u001b[0;34m(\u001b[0m\u001b[0;34m(\u001b[0m\u001b[0marr\u001b[0m\u001b[0;34m,\u001b[0m \u001b[0mvalues\u001b[0m\u001b[0;34m)\u001b[0m\u001b[0;34m,\u001b[0m \u001b[0maxis\u001b[0m\u001b[0;34m=\u001b[0m\u001b[0maxis\u001b[0m\u001b[0;34m)\u001b[0m\u001b[0;34m\u001b[0m\u001b[0;34m\u001b[0m\u001b[0m\n\u001b[0m\u001b[1;32m   4694\u001b[0m \u001b[0;34m\u001b[0m\u001b[0m\n\u001b[1;32m   4695\u001b[0m \u001b[0;34m\u001b[0m\u001b[0m\n",
      "\u001b[0;32m<__array_function__ internals>\u001b[0m in \u001b[0;36mconcatenate\u001b[0;34m(*args, **kwargs)\u001b[0m\n",
      "\u001b[0;31mValueError\u001b[0m: all the input array dimensions for the concatenation axis must match exactly, but along dimension 1, the array at index 0 has size 6 and the array at index 1 has size 1"
     ]
    }
   ],
   "source": [
    "k = np.append(k , X_B.reshape(m,1), axis = 0)"
   ]
  },
  {
   "cell_type": "code",
   "execution_count": 33,
   "metadata": {},
   "outputs": [],
   "source": [
    "nk = []\n",
    "for i in range(m):\n",
    "    nk.append(X_B[i])"
   ]
  },
  {
   "cell_type": "code",
   "execution_count": 43,
   "metadata": {},
   "outputs": [
    {
     "data": {
      "text/plain": [
       "array([[3., 5., 2., 1., 0., 0.],\n",
       "       [4., 4., 4., 0., 1., 0.],\n",
       "       [2., 4., 5., 0., 0., 1.]])"
      ]
     },
     "execution_count": 43,
     "metadata": {},
     "output_type": "execute_result"
    }
   ],
   "source": [
    "for i in range()"
   ]
  },
  {
   "cell_type": "code",
   "execution_count": 62,
   "metadata": {},
   "outputs": [
    {
     "name": "stdout",
     "output_type": "stream",
     "text": [
      "|   CB |   BV |   x_1 |   x_2 |   x_3 |   x_4 |   x_5 |   x_6 |   b |\n",
      "|------+------+-------+-------+-------+-------+-------+-------+-----|\n",
      "|   10 |    1 |     3 |     5 |     2 |     1 |     0 |     0 |   8 |\n",
      "|    8 |    2 |     4 |     4 |     4 |     0 |     1 |     0 |  10 |\n",
      "|    0 |    5 |     2 |     4 |     5 |     0 |     0 |     1 |  18 |\n"
     ]
    }
   ],
   "source": [
    "rows, cols = (m, m+n + 3) \n",
    "arr = [[0 for i in range(cols)] for j in range(rows)] \n",
    "for i in range(rows):\n",
    "    arr[i][1] = bv[i]\n",
    "    arr[i][0] = C_j[bv[i]]\n",
    "for i in range(m):\n",
    "    for j in range(m+n):\n",
    "        arr[i][j+2] = a_ij[i][j]\n",
    "for i in range(m):\n",
    "    arr[i][cols-1] = X_B[i]\n",
    "table = tabulate(arr, headers =header, tablefmt ='orgtbl')\n",
    "print(table)"
   ]
  },
  {
   "cell_type": "code",
   "execution_count": 10,
   "metadata": {},
   "outputs": [
    {
     "name": "stdout",
     "output_type": "stream",
     "text": [
      "| Name   |   Age | University   |\n",
      "|--------+-------+--------------|\n",
      "| Hassan |    21 | LUMS         |\n",
      "| Ali    |    22 | FAST         |\n",
      "| Ahmed  |    23 | UET          |\n"
     ]
    }
   ],
   "source": [
    "from tabulate import tabulate\n",
    "\n",
    "l = [[\"Hassan\", 21, \"LUMS\"], [\"Ali\", 22, \"FAST\"], [\"Ahmed\", 23, \"UET\"]]\n",
    "table = tabulate(l, headers=['Name', 'Age', 'University'], tablefmt='orgtbl')\n",
    "\n",
    "print(table)"
   ]
  },
  {
   "cell_type": "code",
   "execution_count": 59,
   "metadata": {},
   "outputs": [
    {
     "name": "stdout",
     "output_type": "stream",
     "text": [
      "|   CB |   BV |   x_1 |   x_2 |   x_3 |   x_4 |   x_5 |   x_6 |   b |\n",
      "|------+------+-------+-------+-------+-------+-------+-------+-----|\n",
      "|    0 |    1 |     3 |     5 |     2 |     1 |     0 |     0 |   8 |\n",
      "|    0 |    2 |     4 |     4 |     4 |     0 |     1 |     0 |  10 |\n",
      "|    0 |    5 |     2 |     4 |     5 |     0 |     0 |     1 |  18 |\n"
     ]
    }
   ],
   "source": []
  },
  {
   "cell_type": "code",
   "execution_count": 99,
   "metadata": {},
   "outputs": [],
   "source": [
    "def inverse(A):\n",
    "    row = len(A)\n",
    "    \n",
    "    M = []\n",
    "    for i in range(row):\n",
    "        M.append([])\n",
    "        for j in range(row):\n",
    "            M[i].append(A[i][j])\n",
    "        for j in range(row):\n",
    "            if i==j:\n",
    "                M[i].append(1)\n",
    "            else:\n",
    "                M[i].append(0)\n",
    "                                \n",
    "    for i in range(row-1,0,-1):\n",
    "        if M[i-1][0] < M[i][0]:\n",
    "            for j in range(2*row):\n",
    "                temp = M[i][j]\n",
    "                M[i][j] = M[i-1][j]\n",
    "                M[i-1][j] = temp\n",
    "                \n",
    "    for i in range(row):\n",
    "        for j in range(row):\n",
    "            if j != i:\n",
    "                if(M[i][i] == 0):\n",
    "                    for k in range(i+1,row):\n",
    "                        if(M[k][i]!=0):\n",
    "                            for l in range(2*row):\n",
    "                                M[i][l]+=M[k][l]\n",
    "                            break\n",
    "                temp = M[j][i] / M[i][i]\n",
    "                for k in range(2*row):\n",
    "                    M[j][k] -= M[i][k] * temp\n",
    "           \n",
    "    for i in range(row):\n",
    "        temp = M[i][i]\n",
    "        for j in range(2*row):\n",
    "            M[i][j] = M[i][j] / temp\n",
    "                        \n",
    "    I = []\n",
    "    for i in range(row):\n",
    "        I.append([])\n",
    "        for j in range(row):\n",
    "            I[i].append(M[i][j+row])\n",
    "            \n",
    "    return I\n",
    "\n",
    "def multiply(A,B):\n",
    "    \n",
    "    C = []\n",
    "\n",
    "    for i in range(len(A)):\n",
    "        C.append([])\n",
    "        for j in range(len(B[0])):\n",
    "            C[i].append(0)\n",
    "            for k in range(len(B)):\n",
    "                C[i][j] += A[i][k] * B[k][j]\n",
    "\n",
    "    return C"
   ]
  },
  {
   "cell_type": "code",
   "execution_count": 100,
   "metadata": {},
   "outputs": [
    {
     "data": {
      "text/plain": [
       "[[3, 4], [5, 9]]"
      ]
     },
     "execution_count": 100,
     "metadata": {},
     "output_type": "execute_result"
    }
   ],
   "source": [
    "pmk = [[3,4],[5,9]]\n",
    "pmk"
   ]
  },
  {
   "cell_type": "code",
   "execution_count": 101,
   "metadata": {},
   "outputs": [
    {
     "data": {
      "text/plain": [
       "[[1.285714285714286, -0.5714285714285716],\n",
       " [-0.7142857142857145, 0.4285714285714287]]"
      ]
     },
     "execution_count": 101,
     "metadata": {},
     "output_type": "execute_result"
    }
   ],
   "source": [
    "inverse(pmk)"
   ]
  },
  {
   "cell_type": "code",
   "execution_count": 98,
   "metadata": {},
   "outputs": [
    {
     "data": {
      "text/plain": [
       "array([[ 1.28571429, -0.57142857],\n",
       "       [-0.71428571,  0.42857143]])"
      ]
     },
     "execution_count": 98,
     "metadata": {},
     "output_type": "execute_result"
    }
   ],
   "source": [
    "np.linalg.inv(pmk)"
   ]
  },
  {
   "cell_type": "code",
   "execution_count": 102,
   "metadata": {},
   "outputs": [
    {
     "data": {
      "text/plain": [
       "[[1.0, 0.0, -0.4, 0.0],\n",
       " [0.0, 1.0, -0.4, 0.0],\n",
       " [0.0, 0.0, 0.2, 0.0],\n",
       " [0.0, 0.0, -0.2, 1.0]]"
      ]
     },
     "execution_count": 102,
     "metadata": {},
     "output_type": "execute_result"
    }
   ],
   "source": [
    "inverse(B)"
   ]
  },
  {
   "cell_type": "code",
   "execution_count": 103,
   "metadata": {},
   "outputs": [
    {
     "ename": "IndexError",
     "evalue": "invalid index to scalar variable.",
     "output_type": "error",
     "traceback": [
      "\u001b[0;31m---------------------------------------------------------------------------\u001b[0m",
      "\u001b[0;31mIndexError\u001b[0m                                Traceback (most recent call last)",
      "\u001b[0;32m<ipython-input-103-123c5546a7a0>\u001b[0m in \u001b[0;36m<module>\u001b[0;34m\u001b[0m\n\u001b[0;32m----> 1\u001b[0;31m \u001b[0mmultiply\u001b[0m\u001b[0;34m(\u001b[0m\u001b[0mC_b\u001b[0m\u001b[0;34m,\u001b[0m\u001b[0mB\u001b[0m\u001b[0;34m)\u001b[0m\u001b[0;34m\u001b[0m\u001b[0;34m\u001b[0m\u001b[0m\n\u001b[0m",
      "\u001b[0;32m<ipython-input-99-8c862f773f61>\u001b[0m in \u001b[0;36mmultiply\u001b[0;34m(A, B)\u001b[0m\n\u001b[1;32m     55\u001b[0m             \u001b[0mC\u001b[0m\u001b[0;34m[\u001b[0m\u001b[0mi\u001b[0m\u001b[0;34m]\u001b[0m\u001b[0;34m.\u001b[0m\u001b[0mappend\u001b[0m\u001b[0;34m(\u001b[0m\u001b[0;36m0\u001b[0m\u001b[0;34m)\u001b[0m\u001b[0;34m\u001b[0m\u001b[0;34m\u001b[0m\u001b[0m\n\u001b[1;32m     56\u001b[0m             \u001b[0;32mfor\u001b[0m \u001b[0mk\u001b[0m \u001b[0;32min\u001b[0m \u001b[0mrange\u001b[0m\u001b[0;34m(\u001b[0m\u001b[0mlen\u001b[0m\u001b[0;34m(\u001b[0m\u001b[0mB\u001b[0m\u001b[0;34m)\u001b[0m\u001b[0;34m)\u001b[0m\u001b[0;34m:\u001b[0m\u001b[0;34m\u001b[0m\u001b[0;34m\u001b[0m\u001b[0m\n\u001b[0;32m---> 57\u001b[0;31m                 \u001b[0mC\u001b[0m\u001b[0;34m[\u001b[0m\u001b[0mi\u001b[0m\u001b[0;34m]\u001b[0m\u001b[0;34m[\u001b[0m\u001b[0mj\u001b[0m\u001b[0;34m]\u001b[0m \u001b[0;34m+=\u001b[0m \u001b[0mA\u001b[0m\u001b[0;34m[\u001b[0m\u001b[0mi\u001b[0m\u001b[0;34m]\u001b[0m\u001b[0;34m[\u001b[0m\u001b[0mk\u001b[0m\u001b[0;34m]\u001b[0m \u001b[0;34m*\u001b[0m \u001b[0mB\u001b[0m\u001b[0;34m[\u001b[0m\u001b[0mk\u001b[0m\u001b[0;34m]\u001b[0m\u001b[0;34m[\u001b[0m\u001b[0mj\u001b[0m\u001b[0;34m]\u001b[0m\u001b[0;34m\u001b[0m\u001b[0;34m\u001b[0m\u001b[0m\n\u001b[0m\u001b[1;32m     58\u001b[0m \u001b[0;34m\u001b[0m\u001b[0m\n\u001b[1;32m     59\u001b[0m     \u001b[0;32mreturn\u001b[0m \u001b[0mC\u001b[0m\u001b[0;34m\u001b[0m\u001b[0;34m\u001b[0m\u001b[0m\n",
      "\u001b[0;31mIndexError\u001b[0m: invalid index to scalar variable."
     ]
    }
   ],
   "source": []
  },
  {
   "cell_type": "code",
   "execution_count": 91,
   "metadata": {},
   "outputs": [],
   "source": []
  },
  {
   "cell_type": "code",
   "execution_count": null,
   "metadata": {},
   "outputs": [],
   "source": []
  },
  {
   "cell_type": "code",
   "execution_count": null,
   "metadata": {},
   "outputs": [],
   "source": []
  }
 ],
 "metadata": {
  "kernelspec": {
   "display_name": "Python 3",
   "language": "python",
   "name": "python3"
  },
  "language_info": {
   "codemirror_mode": {
    "name": "ipython",
    "version": 3
   },
   "file_extension": ".py",
   "mimetype": "text/x-python",
   "name": "python",
   "nbconvert_exporter": "python",
   "pygments_lexer": "ipython3",
   "version": "3.7.5"
  }
 },
 "nbformat": 4,
 "nbformat_minor": 4
}
