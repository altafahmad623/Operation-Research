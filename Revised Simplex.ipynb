{
 "cells": [
  {
   "cell_type": "markdown",
   "metadata": {},
   "source": [
    "We have been given the optimization problem\n",
    "Maximize Z = 6x_1 + 8x_2  <br>\n",
    "subject to the boundary conditions : <br>\n",
    " 1x_1 + 1x_2 <= 10 <br>\n",
    " 2x_1 + 3x_2 <= 25 <br>\n",
    " 1x_1 + 5x_2 <= 35 <br>"
   ]
  },
  {
   "cell_type": "code",
   "execution_count": 1,
   "metadata": {},
   "outputs": [],
   "source": [
    "n = 2\n",
    "m = 3"
   ]
  },
  {
   "cell_type": "code",
   "execution_count": 2,
   "metadata": {},
   "outputs": [],
   "source": [
    "import numpy as np"
   ]
  },
  {
   "cell_type": "code",
   "execution_count": 14,
   "metadata": {},
   "outputs": [
    {
     "name": "stdout",
     "output_type": "stream",
     "text": [
      "The basic variables are : [3 4 5]\n",
      "With the coefficients C_b : [0 0 0]\n",
      "And X_B = [10 25 35]\n",
      "The non-basic variables are : [1 2]\n",
      "B : \n",
      "[[1. 0. 0.]\n",
      " [0. 1. 0.]\n",
      " [0. 0. 1.]]\n",
      "B^{-1} : \n",
      "[[1. 0. 0.]\n",
      " [0. 1. 0.]\n",
      " [0. 0. 1.]]\n",
      "y = C_b.B^{-1} = [0. 0. 0.]\n"
     ]
    }
   ],
   "source": [
    "C_j = np.array([6,8,0,0,0])\n",
    "a_ij = np.array([[1,1,1,0,0],[2,3,0,1,0],[1,5,0,0,1]])\n",
    "X_B = np.array([10,25,35])\n",
    "B = np.eye(3)\n",
    "C_b = np.array([0,0,0])\n",
    "B_inv = np.linalg.inv(B)\n",
    "y = np.dot(C_b,B_inv)\n",
    "bv = np.array([2,3,4])\n",
    "nbv = np.array([0,1])\n",
    "print('The basic variables are : ' + str(bv+1) )\n",
    "print('With the coefficients C_b : ' + str(C_b))\n",
    "print('And X_B = ' + str(X_B) )\n",
    "print('The non-basic variables are : '+ str(nbv + 1))\n",
    "print('B : \\n'+str(B))\n",
    "print('B^{-1} : \\n' + str(B_inv))\n",
    "print('y = C_b.B^{-1} = ' + str(y))"
   ]
  },
  {
   "cell_type": "code",
   "execution_count": 15,
   "metadata": {},
   "outputs": [
    {
     "name": "stdout",
     "output_type": "stream",
     "text": [
      "P1 = [1 2 1]\n",
      "Now, C1 - Z1 = C1 - yP1\n",
      "=6.0\n",
      "P2 = [1 3 5]\n",
      "Now, C2 - Z2 = C2 - yP2\n",
      "=8.0\n",
      "\n",
      "The maximum value of Cj - Zj is :8.0\n",
      "\n",
      "So the entering variable is 2 1\n"
     ]
    }
   ],
   "source": [
    "id1 =0\n",
    "nbcid = 0\n",
    "max = 0\n",
    "for i in range(2):\n",
    "    print('P' + str(nbv[i] + 1) + ' = '+ str(a_ij[:,nbv[i]]))\n",
    "    print('Now, C' + str(nbv[i] + 1) + ' - Z' + str(nbv[i] + 1) + ' = C' + str(nbv[i] + 1) + ' - yP' + str(nbv[i] + 1) )\n",
    "    print('=' + str(  C_j[nbv[i]] - np.dot(y, np.transpose(a_ij[:,nbv[i]] ) ) ))\n",
    "    if (C_j[nbv[i]] - np.dot(y, np.transpose(a_ij[:,nbv[i]]) )) > max :\n",
    "        max = C_j[nbv[i]] - np.dot(y, np.transpose(a_ij[:,nbv[i]]) )\n",
    "        id1 = nbv[i]\n",
    "        nbcid = i\n",
    "print('\\nThe maximum value of Cj - Zj is :' + str(max) )\n",
    "print('\\nSo the entering variable is ' + str(id1+1) + ' ' + str(nbcid))"
   ]
  },
  {
   "cell_type": "code",
   "execution_count": 16,
   "metadata": {},
   "outputs": [
    {
     "name": "stdout",
     "output_type": "stream",
     "text": [
      "Now, Pbar_j = B^{-1} Pj = [1. 3. 5.]\n",
      "So, we divide X_B by Pbar_j to get\n",
      "[10.          8.33333333  7.        ]\n",
      "Here the minimum value of the matrix is 7.0\n",
      "So, the leaving variable is 5\n",
      "The basic variables are : [3 4 2]\n",
      "With the coefficients C_b : [0 0 8]\n",
      "And X_B = [3. 4. 7.]\n",
      "The non-basic variables are : [1 5]\n",
      "B : \n",
      "[[1. 0. 1.]\n",
      " [0. 1. 3.]\n",
      " [0. 0. 5.]]\n",
      "B^{-1} : \n",
      "[[ 1.   0.  -0.2]\n",
      " [ 0.   1.  -0.6]\n",
      " [ 0.   0.   0.2]]\n",
      "y = C_b.B^{-1} = [0.  0.  1.6]\n"
     ]
    }
   ],
   "source": [
    "    print('Now, Pbar_j = B^{-1} Pj = ' + str( np.dot(B_inv,  a_ij[:,id1])) )\n",
    "    print('So, we divide X_B by Pbar_j to get')\n",
    "    print(np.divide(X_B,np.dot(B_inv,  a_ij[:,id1])))\n",
    "    id2 = np.argmin(np.divide(X_B,np.dot(B_inv,  a_ij[:,id1])))\n",
    "    minim = np.min(np.divide(X_B,np.dot(B_inv,  a_ij[:,id1]))) \n",
    "    print('Here the minimum value of the matrix is ' + str(minim) )\n",
    "    print('So, the leaving variable is ' + str(bv[id2]+1))\n",
    "    nbv[nbcid] = bv[id2]\n",
    "    bv[id2] = id1\n",
    "    X_B = (X_B) - minim*np.dot(B_inv,  a_ij[:,id1])\n",
    "    X_B[id2] = minim\n",
    "    C_b[id2] = C_j[bv[id2]]\n",
    "    B[:,id2] = a_ij[:,id1]\n",
    "    B_inv = np.linalg.inv(B)\n",
    "    y = np.dot(C_b,B_inv)\n",
    "    print('The basic variables are : ' + str(bv+1) )\n",
    "    print('With the coefficients C_b : ' + str(C_b))\n",
    "    print('And X_B = ' + str(X_B) )\n",
    "    print('The non-basic variables are : '+ str(nbv + 1))\n",
    "    print('B : \\n'+str(B))\n",
    "    print('B^{-1} : \\n' + str(B_inv))\n",
    "    print('y = C_b.B^{-1} = ' + str(y))"
   ]
  },
  {
   "cell_type": "code",
   "execution_count": 17,
   "metadata": {},
   "outputs": [
    {
     "name": "stdout",
     "output_type": "stream",
     "text": [
      "P1 = [1 2 1]\n",
      "Now, C1 - Z1 = C1 - yP1\n",
      "=4.4\n",
      "P5 = [0 0 1]\n",
      "Now, C5 - Z5 = C5 - yP5\n",
      "=-1.6\n",
      "\n",
      "The maximum value of Cj - Zj is :4.4\n",
      "\n",
      "So the entering variable is 1 0\n"
     ]
    }
   ],
   "source": [
    "    id1 =0\n",
    "    nbcid = 0\n",
    "    max = 0\n",
    "    for i in range(2):\n",
    "        print('P' + str(nbv[i] + 1) + ' = '+ str(a_ij[:,nbv[i]]))\n",
    "        print('Now, C' + str(nbv[i] + 1) + ' - Z' + str(nbv[i] + 1) + ' = C' + str(nbv[i] + 1) + ' - yP' + str(nbv[i] + 1) )\n",
    "        print('=' + str(  C_j[nbv[i]] - np.dot(y, np.transpose(a_ij[:,nbv[i]] ) ) ))\n",
    "        if (C_j[nbv[i]] - np.dot(y, np.transpose(a_ij[:,nbv[i]]) )) > max :\n",
    "            max = C_j[nbv[i]] - np.dot(y, np.transpose(a_ij[:,nbv[i]]) )\n",
    "            id1 = nbv[i]\n",
    "            nbcid = i\n",
    "    print('\\nThe maximum value of Cj - Zj is :' + str(max) )\n",
    "    print('\\nSo the entering variable is ' + str(id1+1) )"
   ]
  },
  {
   "cell_type": "code",
   "execution_count": 8,
   "metadata": {},
   "outputs": [
    {
     "data": {
      "text/plain": [
       "0"
      ]
     },
     "execution_count": 8,
     "metadata": {},
     "output_type": "execute_result"
    }
   ],
   "source": [
    "id1"
   ]
  },
  {
   "cell_type": "code",
   "execution_count": 9,
   "metadata": {},
   "outputs": [
    {
     "data": {
      "text/plain": [
       "4.4"
      ]
     },
     "execution_count": 9,
     "metadata": {},
     "output_type": "execute_result"
    }
   ],
   "source": [
    "max"
   ]
  },
  {
   "cell_type": "code",
   "execution_count": null,
   "metadata": {},
   "outputs": [],
   "source": []
  },
  {
   "cell_type": "code",
   "execution_count": 18,
   "metadata": {},
   "outputs": [
    {
     "name": "stdout",
     "output_type": "stream",
     "text": [
      "Now, Pbar_j = B^{-1} Pj = [0.8 1.4 0.2]\n",
      "So, we divide X_B by Pbar_j to get\n",
      "[ 3.75        2.85714286 35.        ]\n",
      "Here the minimum value of the matrix is 2.857142857142857\n",
      "So, the leaving variable is 4\n",
      "The basic variables are : [3 1 2]\n",
      "With the coefficients C_b : [0 6 8]\n",
      "And X_B = [0.71428571 2.85714286 6.42857143]\n",
      "The non-basic variables are : [4 5]\n",
      "B : \n",
      "[[1. 1. 1.]\n",
      " [0. 2. 3.]\n",
      " [0. 1. 5.]]\n",
      "B^{-1} : \n",
      "[[ 1.         -0.57142857  0.14285714]\n",
      " [ 0.          0.71428571 -0.42857143]\n",
      " [ 0.         -0.14285714  0.28571429]]\n",
      "y = C_b.B^{-1} = [ 0.          3.14285714 -0.28571429]\n"
     ]
    }
   ],
   "source": [
    "print('Now, Pbar_j = B^{-1} Pj = ' + str( np.dot(B_inv,  a_ij[:,id1])) )\n",
    "print('So, we divide X_B by Pbar_j to get')\n",
    "print(np.divide(X_B,np.dot(B_inv,  a_ij[:,id1])))\n",
    "id2 = np.argmin(np.divide(X_B,np.dot(B_inv,  a_ij[:,id1])))\n",
    "minim = np.min(np.divide(X_B,np.dot(B_inv,  a_ij[:,id1]))) \n",
    "print('Here the minimum value of the matrix is ' + str(minim) )\n",
    "print('So, the leaving variable is ' + str(bv[id2]+1))\n",
    "nbv[nbcid] = bv[id2]\n",
    "bv[id2] = id1\n",
    "X_B = (X_B) - minim*np.dot(B_inv,  a_ij[:,id1])\n",
    "X_B[id2] = minim\n",
    "C_b[id2] = C_j[bv[id2]]\n",
    "B[:,id2] = a_ij[:,id1]\n",
    "B_inv = np.linalg.inv(B)\n",
    "y = np.dot(C_b,B_inv)\n",
    "print('The basic variables are : ' + str(bv+1) )\n",
    "print('With the coefficients C_b : ' + str(C_b))\n",
    "print('And X_B = ' + str(X_B) )\n",
    "print('The non-basic variables are : '+ str(nbv + 1))\n",
    "print('B : \\n'+str(B))\n",
    "print('B^{-1} : \\n' + str(B_inv))\n",
    "print('y = C_b.B^{-1} = ' + str(y))"
   ]
  },
  {
   "cell_type": "code",
   "execution_count": 19,
   "metadata": {},
   "outputs": [
    {
     "name": "stdout",
     "output_type": "stream",
     "text": [
      "P4 = [0 1 0]\n",
      "Now, C4 - Z4 = C4 - yP4\n",
      "=-3.142857142857143\n",
      "P5 = [0 0 1]\n",
      "Now, C5 - Z5 = C5 - yP5\n",
      "=0.2857142857142856\n",
      "\n",
      "The maximum value of Cj - Zj is :0.2857142857142856\n",
      "\n",
      "So the entering variable is 4 1\n"
     ]
    }
   ],
   "source": [
    "id1 =0\n",
    "nbcid = 0\n",
    "max = 0\n",
    "for i in range(2):\n",
    "    print('P' + str(nbv[i] + 1) + ' = '+ str(a_ij[:,nbv[i]]))\n",
    "    print('Now, C' + str(nbv[i] + 1) + ' - Z' + str(nbv[i] + 1) + ' = C' + str(nbv[i] + 1) + ' - yP' + str(nbv[i] + 1) )\n",
    "    print('=' + str(  C_j[nbv[i]] - np.dot(y, np.transpose(a_ij[:,nbv[i]] ) ) ))\n",
    "    if (C_j[nbv[i]] - np.dot(y, np.transpose(a_ij[:,nbv[i]]) )) > max :\n",
    "        max = C_j[nbv[i]] - np.dot(y, np.transpose(a_ij[:,nbv[i]]) )\n",
    "        id1 = nbv[i]\n",
    "        nbcid = i\n",
    "print('\\nThe maximum value of Cj - Zj is :' + str(max) )\n",
    "print('\\nSo the entering variable is ' + str(id1) + ' ' + str(nbcid))"
   ]
  },
  {
   "cell_type": "code",
   "execution_count": 20,
   "metadata": {},
   "outputs": [
    {
     "name": "stdout",
     "output_type": "stream",
     "text": [
      "Now, Pbar_j = B^{-1} Pj = [ 0.14285714 -0.42857143  0.28571429]\n",
      "So, we divide X_B by Pbar_j to get\n",
      "[ 5.         -6.66666667 22.5       ]\n",
      "Here the minimum value of the matrix is -6.666666666666667\n",
      "So, the leaving variable is 1\n",
      "The basic variables are : [3 5 2]\n",
      "With the coefficients C_b : [0 0 8]\n",
      "And X_B = [ 1.66666667 -6.66666667  8.33333333]\n",
      "The non-basic variables are : [4 1]\n",
      "B : \n",
      "[[1. 0. 1.]\n",
      " [0. 0. 3.]\n",
      " [0. 1. 5.]]\n",
      "B^{-1} : \n",
      "[[ 1.         -0.33333333  0.        ]\n",
      " [ 0.         -1.66666667  1.        ]\n",
      " [ 0.          0.33333333  0.        ]]\n",
      "y = C_b.B^{-1} = [0.         2.66666667 0.        ]\n"
     ]
    }
   ],
   "source": [
    "print('Now, Pbar_j = B^{-1} Pj = ' + str( np.dot(B_inv,  a_ij[:,id1])) )\n",
    "print('So, we divide X_B by Pbar_j to get')\n",
    "print(np.divide(X_B,np.dot(B_inv,  a_ij[:,id1])))\n",
    "id2 = np.argmin(np.divide(X_B,np.dot(B_inv,  a_ij[:,id1])))\n",
    "minim = np.min(np.divide(X_B,np.dot(B_inv,  a_ij[:,id1]))) \n",
    "print('Here the minimum value of the matrix is ' + str(minim) )\n",
    "print('So, the leaving variable is ' + str(bv[id2]+1))\n",
    "nbv[nbcid] = bv[id2]\n",
    "bv[id2] = id1\n",
    "X_B = (X_B) - minim*np.dot(B_inv,  a_ij[:,id1])\n",
    "X_B[id2] = minim\n",
    "C_b[id2] = C_j[bv[id2]]\n",
    "B[:,id2] = a_ij[:,id1]\n",
    "B_inv = np.linalg.inv(B)\n",
    "y = np.dot(C_b,B_inv)\n",
    "print('The basic variables are : ' + str(bv+1) )\n",
    "print('With the coefficients C_b : ' + str(C_b))\n",
    "print('And X_B = ' + str(X_B) )\n",
    "print('The non-basic variables are : '+ str(nbv + 1))\n",
    "print('B : \\n'+str(B))\n",
    "print('B^{-1} : \\n' + str(B_inv))\n",
    "print('y = C_b.B^{-1} = ' + str(y))"
   ]
  },
  {
   "cell_type": "code",
   "execution_count": 21,
   "metadata": {},
   "outputs": [
    {
     "name": "stdout",
     "output_type": "stream",
     "text": [
      "P4 = [0 1 0]\n",
      "Now, C4 - Z4 = C4 - yP4\n",
      "=-2.6666666666666665\n",
      "P1 = [1 2 1]\n",
      "Now, C1 - Z1 = C1 - yP1\n",
      "=0.666666666666667\n",
      "\n",
      "The maximum value of Cj - Zj is :0.666666666666667\n",
      "\n",
      "So the entering variable is 0 1\n"
     ]
    }
   ],
   "source": [
    "id1 =0\n",
    "nbcid = 0\n",
    "max = 0\n",
    "for i in range(2):\n",
    "    print('P' + str(nbv[i] + 1) + ' = '+ str(a_ij[:,nbv[i]]))\n",
    "    print('Now, C' + str(nbv[i] + 1) + ' - Z' + str(nbv[i] + 1) + ' = C' + str(nbv[i] + 1) + ' - yP' + str(nbv[i] + 1) )\n",
    "    print('=' + str(  C_j[nbv[i]] - np.dot(y, np.transpose(a_ij[:,nbv[i]] ) ) ))\n",
    "    if (C_j[nbv[i]] - np.dot(y, np.transpose(a_ij[:,nbv[i]]) )) > max :\n",
    "        max = C_j[nbv[i]] - np.dot(y, np.transpose(a_ij[:,nbv[i]]) )\n",
    "        id1 = nbv[i]\n",
    "        nbcid = i\n",
    "print('\\nThe maximum value of Cj - Zj is :' + str(max) )\n",
    "print('\\nSo the entering variable is ' + str(id1) + ' ' + str(nbcid))"
   ]
  },
  {
   "cell_type": "code",
   "execution_count": 33,
   "metadata": {},
   "outputs": [
    {
     "name": "stdout",
     "output_type": "stream",
     "text": [
      "The basic variables are : [4 5]\n",
      "With the coefficients C_b : [0 0]\n",
      "And X_B = [30 18]\n",
      "The non-basic variables are : [1 2 3]\n",
      "B : \n",
      "[[1. 0.]\n",
      " [0. 1.]]\n",
      "B^{-1} : \n",
      "[[1. 0.]\n",
      " [0. 1.]]\n",
      "y = C_b.B^{-1} = [0. 0.]\n"
     ]
    }
   ],
   "source": [
    "C_j = np.array([1,2,3,0,0])\n",
    "a_ij = np.array([[1,5,6,0,0],[1,3,2,0,1]])\n",
    "X_B = np.array([30,18])\n",
    "B = np.eye(2)\n",
    "C_b = np.array([0,0])\n",
    "B_inv = np.linalg.inv(B)\n",
    "y = np.dot(C_b,B_inv)\n",
    "bv = np.array([3,4])\n",
    "nbv = np.array([0,1,2])\n",
    "print('The basic variables are : ' + str(bv+1) )\n",
    "print('With the coefficients C_b : ' + str(C_b))\n",
    "print('And X_B = ' + str(X_B) )\n",
    "print('The non-basic variables are : '+ str(nbv + 1))\n",
    "print('B : \\n'+str(B))\n",
    "print('B^{-1} : \\n' + str(B_inv))\n",
    "print('y = C_b.B^{-1} = ' + str(y))"
   ]
  },
  {
   "cell_type": "code",
   "execution_count": 34,
   "metadata": {},
   "outputs": [
    {
     "name": "stdout",
     "output_type": "stream",
     "text": [
      "P1 = [1 1]\n",
      "Now, C1 - Z1 = C1 - yP1\n",
      "=1.0\n",
      "P2 = [5 3]\n",
      "Now, C2 - Z2 = C2 - yP2\n",
      "=2.0\n",
      "P3 = [6 2]\n",
      "Now, C3 - Z3 = C3 - yP3\n",
      "=3.0\n",
      "\n",
      "The maximum value of Cj - Zj is :3.0\n",
      "\n",
      "So the entering variable is 3 2\n"
     ]
    }
   ],
   "source": [
    "id1 =0\n",
    "nbcid = 0\n",
    "max = 0\n",
    "for i in range(3):\n",
    "    print('P' + str(nbv[i] + 1) + ' = '+ str(a_ij[:,nbv[i]]))\n",
    "    print('Now, C' + str(nbv[i] + 1) + ' - Z' + str(nbv[i] + 1) + ' = C' + str(nbv[i] + 1) + ' - yP' + str(nbv[i] + 1) )\n",
    "    print('=' + str(  C_j[nbv[i]] - np.dot(y, np.transpose(a_ij[:,nbv[i]] ) ) ))\n",
    "    if (C_j[nbv[i]] - np.dot(y, np.transpose(a_ij[:,nbv[i]]) )) > max :\n",
    "        max = C_j[nbv[i]] - np.dot(y, np.transpose(a_ij[:,nbv[i]]) )\n",
    "        id1 = nbv[i]\n",
    "        nbcid = i\n",
    "print('\\nThe maximum value of Cj - Zj is :' + str(max) )\n",
    "print('\\nSo the entering variable is ' + str(id1+1) + ' ' + str(nbcid))"
   ]
  },
  {
   "cell_type": "code",
   "execution_count": 28,
   "metadata": {},
   "outputs": [
    {
     "name": "stdout",
     "output_type": "stream",
     "text": [
      "Now, Pbar_j = B^{-1} Pj = [6. 2.]\n",
      "So, we divide X_B by Pbar_j to get\n",
      "[5. 9.]\n",
      "Here the minimum value of the matrix is 5.0\n",
      "So, the leaving variable is 4\n",
      "The basic variables are : [3 5]\n",
      "With the coefficients C_b : [3 0]\n",
      "And X_B = [5. 8.]\n",
      "The non-basic variables are : [1 2 4]\n",
      "B : \n",
      "[[6. 0.]\n",
      " [2. 1.]]\n",
      "B^{-1} : \n",
      "[[ 0.16666667  0.        ]\n",
      " [-0.33333333  1.        ]]\n",
      "y = C_b.B^{-1} = [0.5 0. ]\n"
     ]
    }
   ],
   "source": [
    "print('Now, Pbar_j = B^{-1} Pj = ' + str( np.dot(B_inv,  a_ij[:,id1])) )\n",
    "print('So, we divide X_B by Pbar_j to get')\n",
    "print(np.divide(X_B,np.dot(B_inv,  a_ij[:,id1])))\n",
    "id2 = np.argmin(np.divide(X_B,np.dot(B_inv,  a_ij[:,id1])))\n",
    "minim = np.min(np.divide(X_B,np.dot(B_inv,  a_ij[:,id1]))) \n",
    "print('Here the minimum value of the matrix is ' + str(minim) )\n",
    "print('So, the leaving variable is ' + str(bv[id2]+1))\n",
    "nbv[nbcid] = bv[id2]\n",
    "bv[id2] = id1\n",
    "X_B = (X_B) - minim*np.dot(B_inv,  a_ij[:,id1])\n",
    "X_B[id2] = minim\n",
    "C_b[id2] = C_j[bv[id2]]\n",
    "B[:,id2] = a_ij[:,id1]\n",
    "B_inv = np.linalg.inv(B)\n",
    "y = np.dot(C_b,B_inv)\n",
    "print('The basic variables are : ' + str(bv+1) )\n",
    "print('With the coefficients C_b : ' + str(C_b))\n",
    "print('And X_B = ' + str(X_B) )\n",
    "print('The non-basic variables are : '+ str(nbv + 1))\n",
    "print('B : \\n'+str(B))\n",
    "print('B^{-1} : \\n' + str(B_inv))\n",
    "print('y = C_b.B^{-1} = ' + str(y))"
   ]
  },
  {
   "cell_type": "code",
   "execution_count": 29,
   "metadata": {},
   "outputs": [
    {
     "name": "stdout",
     "output_type": "stream",
     "text": [
      "P1 = [1 1]\n",
      "Now, C1 - Z1 = C1 - yP1\n",
      "=0.5\n",
      "P2 = [5 3]\n",
      "Now, C2 - Z2 = C2 - yP2\n",
      "=-0.5\n",
      "P4 = [0 0]\n",
      "Now, C4 - Z4 = C4 - yP4\n",
      "=0.0\n",
      "\n",
      "The maximum value of Cj - Zj is :0.5\n",
      "\n",
      "So the entering variable is 1 0\n"
     ]
    }
   ],
   "source": [
    "id1 =0\n",
    "nbcid = 0\n",
    "max = 0\n",
    "for i in range(3):\n",
    "    print('P' + str(nbv[i] + 1) + ' = '+ str(a_ij[:,nbv[i]]))\n",
    "    print('Now, C' + str(nbv[i] + 1) + ' - Z' + str(nbv[i] + 1) + ' = C' + str(nbv[i] + 1) + ' - yP' + str(nbv[i] + 1) )\n",
    "    print('=' + str(  C_j[nbv[i]] - np.dot(y, np.transpose(a_ij[:,nbv[i]] ) ) ))\n",
    "    if (C_j[nbv[i]] - np.dot(y, np.transpose(a_ij[:,nbv[i]]) )) > max :\n",
    "        max = C_j[nbv[i]] - np.dot(y, np.transpose(a_ij[:,nbv[i]]) )\n",
    "        id1 = nbv[i]\n",
    "        nbcid = i\n",
    "print('\\nThe maximum value of Cj - Zj is :' + str(max) )\n",
    "print('\\nSo the entering variable is ' + str(id1+1) + ' ' + str(nbcid))"
   ]
  },
  {
   "cell_type": "code",
   "execution_count": 30,
   "metadata": {},
   "outputs": [
    {
     "name": "stdout",
     "output_type": "stream",
     "text": [
      "Now, Pbar_j = B^{-1} Pj = [0.16666667 0.66666667]\n",
      "So, we divide X_B by Pbar_j to get\n",
      "[30. 12.]\n",
      "Here the minimum value of the matrix is 11.999999999999998\n",
      "So, the leaving variable is 5\n",
      "The basic variables are : [3 1]\n",
      "With the coefficients C_b : [3 1]\n",
      "And X_B = [ 3. 12.]\n",
      "The non-basic variables are : [5 2 4]\n",
      "B : \n",
      "[[6. 1.]\n",
      " [2. 1.]]\n",
      "B^{-1} : \n",
      "[[ 0.25 -0.25]\n",
      " [-0.5   1.5 ]]\n",
      "y = C_b.B^{-1} = [0.25 0.75]\n"
     ]
    }
   ],
   "source": [
    "print('Now, Pbar_j = B^{-1} Pj = ' + str( np.dot(B_inv,  a_ij[:,id1])) )\n",
    "print('So, we divide X_B by Pbar_j to get')\n",
    "print(np.divide(X_B,np.dot(B_inv,  a_ij[:,id1])))\n",
    "id2 = np.argmin(np.divide(X_B,np.dot(B_inv,  a_ij[:,id1])))\n",
    "minim = np.min(np.divide(X_B,np.dot(B_inv,  a_ij[:,id1]))) \n",
    "print('Here the minimum value of the matrix is ' + str(minim) )\n",
    "print('So, the leaving variable is ' + str(bv[id2]+1))\n",
    "nbv[nbcid] = bv[id2]\n",
    "bv[id2] = id1\n",
    "X_B = (X_B) - minim*np.dot(B_inv,  a_ij[:,id1])\n",
    "X_B[id2] = minim\n",
    "C_b[id2] = C_j[bv[id2]]\n",
    "B[:,id2] = a_ij[:,id1]\n",
    "B_inv = np.linalg.inv(B)\n",
    "y = np.dot(C_b,B_inv)\n",
    "print('The basic variables are : ' + str(bv+1) )\n",
    "print('With the coefficients C_b : ' + str(C_b))\n",
    "print('And X_B = ' + str(X_B) )\n",
    "print('The non-basic variables are : '+ str(nbv + 1))\n",
    "print('B : \\n'+str(B))\n",
    "print('B^{-1} : \\n' + str(B_inv))\n",
    "print('y = C_b.B^{-1} = ' + str(y))\n",
    "id1 =0\n",
    "nbcid = 0\n",
    "max = 0\n",
    "for i in range(3):\n",
    "    print('P' + str(nbv[i] + 1) + ' = '+ str(a_ij[:,nbv[i]]))\n",
    "    print('Now, C' + str(nbv[i] + 1) + ' - Z' + str(nbv[i] + 1) + ' = C' + str(nbv[i] + 1) + ' - yP' + str(nbv[i] + 1) )\n",
    "    print('=' + str(  C_j[nbv[i]] - np.dot(y, np.transpose(a_ij[:,nbv[i]] ) ) ))\n",
    "    if (C_j[nbv[i]] - np.dot(y, np.transpose(a_ij[:,nbv[i]]) )) > max :\n",
    "        max = C_j[nbv[i]] - np.dot(y, np.transpose(a_ij[:,nbv[i]]) )\n",
    "        id1 = nbv[i]\n",
    "        nbcid = i\n",
    "print('\\nThe maximum value of Cj - Zj is :' + str(max) )\n",
    "print('\\nSo the entering variable is ' + str(id1+1) + ' ' + str(nbcid))"
   ]
  },
  {
   "cell_type": "code",
   "execution_count": 31,
   "metadata": {},
   "outputs": [
    {
     "name": "stdout",
     "output_type": "stream",
     "text": [
      "P5 = [0 1]\n",
      "Now, C5 - Z5 = C5 - yP5\n",
      "=-0.75\n",
      "P2 = [5 3]\n",
      "Now, C2 - Z2 = C2 - yP2\n",
      "=-1.5000000000000004\n",
      "P4 = [0 0]\n",
      "Now, C4 - Z4 = C4 - yP4\n",
      "=0.0\n",
      "\n",
      "The maximum value of Cj - Zj is :0\n",
      "\n",
      "So the entering variable is 1 0\n"
     ]
    }
   ],
   "source": [
    "id1 =0\n",
    "nbcid = 0\n",
    "max = 0\n",
    "for i in range(3):\n",
    "    print('P' + str(nbv[i] + 1) + ' = '+ str(a_ij[:,nbv[i]]))\n",
    "    print('Now, C' + str(nbv[i] + 1) + ' - Z' + str(nbv[i] + 1) + ' = C' + str(nbv[i] + 1) + ' - yP' + str(nbv[i] + 1) )\n",
    "    print('=' + str(  C_j[nbv[i]] - np.dot(y, np.transpose(a_ij[:,nbv[i]] ) ) ))\n",
    "    if (C_j[nbv[i]] - np.dot(y, np.transpose(a_ij[:,nbv[i]]) )) > max :\n",
    "        max = C_j[nbv[i]] - np.dot(y, np.transpose(a_ij[:,nbv[i]]) )\n",
    "        id1 = nbv[i]\n",
    "        nbcid = i\n",
    "print('\\nThe maximum value of Cj - Zj is :' + str(max) )\n",
    "print('\\nSo the entering variable is ' + str(id1+1) + ' ' + str(nbcid))"
   ]
  },
  {
   "cell_type": "code",
   "execution_count": 177,
   "metadata": {},
   "outputs": [
    {
     "data": {
      "text/plain": [
       "array([[1., 0., 1.],\n",
       "       [0., 1., 3.],\n",
       "       [0., 0., 5.]])"
      ]
     },
     "execution_count": 177,
     "metadata": {},
     "output_type": "execute_result"
    }
   ],
   "source": [
    "B"
   ]
  },
  {
   "cell_type": "code",
   "execution_count": 178,
   "metadata": {},
   "outputs": [],
   "source": []
  },
  {
   "cell_type": "code",
   "execution_count": 179,
   "metadata": {},
   "outputs": [
    {
     "data": {
      "text/plain": [
       "array([0. , 0. , 1.6])"
      ]
     },
     "execution_count": 179,
     "metadata": {},
     "output_type": "execute_result"
    }
   ],
   "source": [
    "y"
   ]
  },
  {
   "cell_type": "code",
   "execution_count": 180,
   "metadata": {},
   "outputs": [
    {
     "name": "stdout",
     "output_type": "stream",
     "text": [
      "4.4\n",
      "0.0\n"
     ]
    }
   ],
   "source": [
    "for i in range(n):\n",
    "    print('P' + str(nbv[i] + 1) + ' = '+ str(a_ij[:,nbv[i]]))\n",
    "    print('Now, C' + str(nbv[i] + 1) + ' - Z' + str(nbv[i] + 1) + ' = C' + str(nbv[i] + 1) + ' - yP' + str(nbv[i] + 1) )\n",
    "    print('=' + str(  C_j[nbv[i]] - np.dot(y, np.transpose(a_ij[:,nbv[i]] ) ) ))\n",
    "    if (C_j[nbv[i]] - np.dot(y, np.transpose(a_ij[:,nbv[i]]) )) > max :\n",
    "        max = C_j[nbv[i]] - np.dot(y, np.transpose(a_ij[:,nbv[i]]) )\n",
    "        id1 = nbv[i]\n",
    "        nbcid = i\n",
    "print('\\nThe maximum value of Cj - Zj is :' + str(max) )\n",
    "print('\\nSo the entering variable is ' + str(id1+1) )\n",
    "check = 1\n",
    "iterations = 0"
   ]
  },
  {
   "cell_type": "code",
   "execution_count": null,
   "metadata": {},
   "outputs": [],
   "source": []
  }
 ],
 "metadata": {
  "kernelspec": {
   "display_name": "Python 3",
   "language": "python",
   "name": "python3"
  },
  "language_info": {
   "codemirror_mode": {
    "name": "ipython",
    "version": 3
   },
   "file_extension": ".py",
   "mimetype": "text/x-python",
   "name": "python",
   "nbconvert_exporter": "python",
   "pygments_lexer": "ipython3",
   "version": "3.7.5"
  }
 },
 "nbformat": 4,
 "nbformat_minor": 4
}
